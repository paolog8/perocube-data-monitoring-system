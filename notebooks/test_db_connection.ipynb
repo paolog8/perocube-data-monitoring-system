{
 "cells": [
  {
   "cell_type": "markdown",
   "id": "cb9fdc78",
   "metadata": {},
   "source": [
    "# Test TimescaleDB Connection\n",
    "\n",
    "This notebook demonstrates how to connect to the TimescaleDB instance and run a simple query."
   ]
  },
  {
   "cell_type": "code",
   "execution_count": null,
   "id": "df0ae9d6",
   "metadata": {},
   "outputs": [],
   "source": [
    "# Install required packages if not already installed\n",
    "!pip install psycopg2-binary sqlalchemy pandas"
   ]
  },
  {
   "cell_type": "code",
   "execution_count": null,
   "id": "c1e812ef",
   "metadata": {},
   "outputs": [],
   "source": [
    "import os\n",
    "import psycopg2\n",
    "import pandas as pd\n",
    "from sqlalchemy import create_engine\n",
    "\n",
    "# Get database connection parameters from environment variables\n",
    "db_params = {\n",
    "    'host': os.getenv('POSTGRES_HOST', 'timescaledb'),  # Uses Docker service name\n",
    "    'database': os.getenv('POSTGRES_DB', 'perocube'),    # Matches POSTGRES_DB in docker-compose\n",
    "    'user': os.getenv('POSTGRES_USER', 'postgres'),      # Matches POSTGRES_USER in docker-compose\n",
    "    'password': os.getenv('POSTGRES_PASSWORD'),          # Will get from docker-compose env\n",
    "    'port': '5432'                                       # Internal Docker port, not the host port\n",
    "}\n",
    "\n",
    "print('Connecting with parameters:', {\n",
    "    **db_params,\n",
    "    'password': '***' if db_params['password'] else None\n",
    "})\n",
    "\n",
    "# Create connection string\n",
    "conn_str = f\"postgresql://{db_params['user']}:{db_params['password']}@{db_params['host']}:{db_params['port']}/{db_params['database']}\"\n",
    "\n",
    "# Create SQLAlchemy engine\n",
    "engine = create_engine(conn_str)\n",
    "\n",
    "# Test connection with a simple query\n",
    "try:\n",
    "    with engine.connect() as connection:\n",
    "        result = pd.read_sql('SELECT now() as current_time;', connection)\n",
    "        print(\"\\nSuccessfully connected to TimescaleDB!\")\n",
    "        display(result)\n",
    "except Exception as e:\n",
    "    print(f\"\\nError connecting to database: {e}\")"
   ]
  }
 ],
 "metadata": {
  "language_info": {
   "name": "python"
  }
 },
 "nbformat": 4,
 "nbformat_minor": 5
}
